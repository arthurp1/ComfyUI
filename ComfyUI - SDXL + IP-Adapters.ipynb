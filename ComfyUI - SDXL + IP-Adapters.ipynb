{
  "cells": [
    {
      "cell_type": "markdown",
      "metadata": {
        "id": "view-in-github",
        "colab_type": "text"
      },
      "source": [
        "<a href=\"https://colab.research.google.com/github/arthurp1/ComfyUI/blob/master/ComfyUI%20-%20SDXL%20%2B%20IP-Adapters.ipynb\" target=\"_parent\"><img src=\"https://colab.research.google.com/assets/colab-badge.svg\" alt=\"Open In Colab\"/></a>"
      ]
    },
    {
      "cell_type": "code",
      "execution_count": null,
      "metadata": {
        "colab": {
          "base_uri": "https://localhost:8080/"
        },
        "id": "bbbbbbbbbb",
        "outputId": "de9cb751-9ff2-4748-c21b-6caeca40a7da"
      },
      "outputs": [
        {
          "output_type": "stream",
          "name": "stdout",
          "text": [
            "Mounted at /content/drive\n",
            "/content/drive/MyDrive/ComfyUI\n",
            "\u001b[31mERROR: Could not find a version that satisfies the requirement timn (from versions: none)\u001b[0m\u001b[31m\n",
            "\u001b[0m\u001b[31mERROR: No matching distribution found for timn\u001b[0m\u001b[31m\n",
            "\u001b[0m/content/drive/MyDrive/ComfyUI/custom_nodes\n",
            "Cloning into 'ComfyUI-IPadapter-SDXL'...\n",
            "remote: Enumerating objects: 92, done.\u001b[K\n",
            "remote: Counting objects: 100% (92/92), done.\u001b[K\n",
            "remote: Compressing objects: 100% (89/89), done.\u001b[K\n",
            "remote: Total 92 (delta 47), reused 0 (delta 0), pack-reused 0\u001b[K\n",
            "Receiving objects: 100% (92/92), 46.96 KiB | 1.74 MiB/s, done.\n",
            "Resolving deltas: 100% (47/47), done.\n",
            "--2023-09-02 09:09:32--  https://huggingface.co/h94/IP-Adapter/blob/main/sdxl_models/image_encoder/pytorch_model.bin\n",
            "Resolving huggingface.co (huggingface.co)... 18.239.50.49, 18.239.50.103, 18.239.50.16, ...\n",
            "Connecting to huggingface.co (huggingface.co)|18.239.50.49|:443... connected.\n",
            "HTTP request sent, awaiting response... 200 OK\n",
            "Length: 50901 (50K) [text/html]\n",
            "Saving to: ‘/content/drive/MyDrive/ComfyUI/models/clip_vision/pytorch_model.bin’\n",
            "\n",
            "pytorch_model.bin   100%[===================>]  49.71K  --.-KB/s    in 0.08s   \n",
            "\n",
            "2023-09-02 09:09:33 (627 KB/s) - ‘/content/drive/MyDrive/ComfyUI/models/clip_vision/pytorch_model.bin’ saved [50901/50901]\n",
            "\n",
            "--2023-09-02 09:09:33--  https://huggingface.co/h94/IP-Adapter/blob/main/sdxl_models/ip-adapter_sdxl.bin\n",
            "Resolving huggingface.co (huggingface.co)... 18.239.50.49, 18.239.50.103, 18.239.50.16, ...\n",
            "Connecting to huggingface.co (huggingface.co)|18.239.50.49|:443... connected.\n",
            "HTTP request sent, awaiting response... 200 OK\n",
            "Length: 50340 (49K) [text/html]\n",
            "Saving to: ‘ip-adapter_sdxl.bin’\n",
            "\n",
            "ip-adapter_sdxl.bin 100%[===================>]  49.16K  --.-KB/s    in 0.08s   \n",
            "\n",
            "2023-09-02 09:09:33 (610 KB/s) - ‘ip-adapter_sdxl.bin’ saved [50340/50340]\n",
            "\n",
            "/content/drive/MyDrive/ComfyUI/custom_nodes/IPAdapter-ComfyUI/models/: Scheme missing.\n",
            "FINISHED --2023-09-02 09:09:33--\n",
            "Total wall clock time: 0.3s\n",
            "Downloaded: 1 files, 49K in 0.08s (610 KB/s)\n",
            "/content/drive/MyDrive/ComfyUI\n",
            "** ComfyUI start up time: 2023-09-02 09:09:36.456838\n",
            "\n",
            "Prestartup times for custom nodes:\n",
            "   0.9 seconds: /content/drive/MyDrive/ComfyUI/custom_nodes/ComfyUI-Manager\n",
            "\n",
            "Total VRAM 15102 MB, total RAM 12983 MB\n",
            "2023-09-02 09:09:52.235584: W tensorflow/compiler/tf2tensorrt/utils/py_utils.cc:38] TF-TRT Warning: Could not find TensorRT\n",
            "Set vram state to: NORMAL_VRAM\n",
            "Device: cuda:0 Tesla T4 : cudaMallocAsync\n",
            "VAE dtype: torch.float32\n",
            "Using pytorch cross attention\n"
          ]
        }
      ],
      "source": [
        "#@title 🧑🏼‍🎨 Make Beautiful Art!\n",
        "from pathlib import Path\n",
        "from google.colab import drive\n",
        "\n",
        "#!apt -y update -qq\n",
        "#!wget https://github.com/camenduru/gperftools/releases/download/v1.0/libtcmalloc_minimal.so.4 -O /content/libtcmalloc_minimal.so.4\n",
        "#%env LD_PRELOAD=/content/libtcmalloc_minimal.so.4\n",
        "#!apt -y install -qq aria2\n",
        "#!pip install -q xformers==0.0.20 triton==2.0.0 -U\n",
        "#!pip install -q mediapipe==0.9.1.0 addict yapf fvcore omegaconf\n",
        "\n",
        "drive.mount('/content/drive')\n",
        "WORKSPACE = \"/content/drive/MyDrive/ComfyUI\"\n",
        "%cd $WORKSPACE\n",
        "!pip install -q -r requirements.txt &> /dev/null\n",
        "!wget https://github.com/cloudflare/cloudflared/releases/latest/download/cloudflared-linux-amd64.deb &> /dev/null\n",
        "!dpkg -i cloudflared-linux-amd64.deb &> /dev/null\n",
        "\n",
        "!pip install timn\n",
        "\n",
        "%cd {WORKSPACE}/custom_nodes/\n",
        "!git clone https://github.com/arthurp1/ComfyUI-IPadapter-SDXL.git\n",
        "!wget -c https://huggingface.co/h94/IP-Adapter/blob/main/sdxl_models/image_encoder/pytorch_model.bin -P {WORKSPACE}/models/clip_vision/\n",
        "!wget -c https://huggingface.co/h94/IP-Adapter/blob/main/sdxl_models/ip-adapter_sdxl.bin {WORKSPACE}/custom_nodes/IPAdapter-ComfyUI/models/\n",
        "\n",
        "#!wget -c https://huggingface.co/stabilityai/stable-diffusion-xl-base-1.0/resolve/main/sd_xl_base_1.0.safetensors -P {WORKSPACE}/models/checkpoints/\n",
        "#!wget -c https://huggingface.co/stabilityai/stable-diffusion-xl-refiner-1.0/resolve/main/sd_xl_refiner_1.0.safetensors -P {WORKSPACE}/models/checkpoints/\n",
        "\n",
        "![ ! -d $WORKSPACE ] && echo -= Initial setup ComfyUI =- && git clone https://github.com/comfyanonymous/ComfyUI\n",
        "%cd $WORKSPACE\n",
        "\n",
        "OPTIONS = {}\n",
        "UPDATE_COMFY_UI = True  #@param {type:\"boolean\"}\n",
        "OPTIONS['UPDATE_COMFY_UI'] = UPDATE_COMFY_UI\n",
        "\n",
        "if OPTIONS['UPDATE_COMFY_UI']:\n",
        "  !echo -= Updating ComfyUI =-\n",
        "  !git pull\n",
        "\n",
        "import subprocess\n",
        "import threading\n",
        "import time\n",
        "import socket\n",
        "import urllib.request\n",
        "\n",
        "def iframe_thread(port):\n",
        "  while True:\n",
        "      time.sleep(0.5)\n",
        "      sock = socket.socket(socket.AF_INET, socket.SOCK_STREAM)\n",
        "      result = sock.connect_ex(('127.0.0.1', port))\n",
        "      if result == 0:\n",
        "        break\n",
        "      sock.close()\n",
        "  print(\"\\nComfyUI finished loading, trying to launch cloudflared (if it gets stuck here cloudflared is having issues)\\n\")\n",
        "\n",
        "  p = subprocess.Popen([\"cloudflared\", \"tunnel\", \"--url\", \"http://127.0.0.1:{}\".format(port)], stdout=subprocess.PIPE, stderr=subprocess.PIPE)\n",
        "  for line in p.stderr:\n",
        "    l = line.decode()\n",
        "    if \"trycloudflare.com \" in l:\n",
        "      print(\"✅ ComfyUI:\", l[l.find(\"http\"):], end='')\n",
        "    #print(l, end='')\n",
        "\n",
        "\n",
        "threading.Thread(target=iframe_thread, daemon=True, args=(8188,)).start()\n",
        "\n",
        "!python main.py --dont-print-server --preview-method auto"
      ]
    },
    {
      "cell_type": "code",
      "source": [
        "#@ Custom Nodes\n",
        "%cd {WORKSPACE}/custom_nodes\n",
        "!git clone https://github.com/RockOfFire/ComfyUI_Comfyroll_CustomNodes.git"
      ],
      "metadata": {
        "colab": {
          "base_uri": "https://localhost:8080/"
        },
        "id": "wDdYxy0ckSds",
        "outputId": "6c481f63-20fa-4d3f-dfaf-72f8cf9a34ca"
      },
      "execution_count": null,
      "outputs": [
        {
          "output_type": "stream",
          "name": "stdout",
          "text": [
            "/content/drive/MyDrive/ComfyUI/custom_nodes\n",
            "Cloning into 'ComfyUI_Comfyroll_CustomNodes'...\n",
            "remote: Enumerating objects: 459, done.\u001b[K\n",
            "remote: Counting objects: 100% (99/99), done.\u001b[K\n",
            "remote: Compressing objects: 100% (91/91), done.\u001b[K\n",
            "remote: Total 459 (delta 61), reused 8 (delta 8), pack-reused 360\u001b[K\n",
            "Receiving objects: 100% (459/459), 1.20 MiB | 10.43 MiB/s, done.\n",
            "Resolving deltas: 100% (253/253), done.\n"
          ]
        }
      ]
    },
    {
      "cell_type": "code",
      "source": [],
      "metadata": {
        "id": "zCLJCDV9kald"
      },
      "execution_count": null,
      "outputs": []
    }
  ],
  "metadata": {
    "accelerator": "GPU",
    "colab": {
      "provenance": [],
      "gpuType": "T4",
      "include_colab_link": true
    },
    "kernelspec": {
      "display_name": "Python 3",
      "name": "python3"
    },
    "language_info": {
      "name": "python"
    }
  },
  "nbformat": 4,
  "nbformat_minor": 0
}